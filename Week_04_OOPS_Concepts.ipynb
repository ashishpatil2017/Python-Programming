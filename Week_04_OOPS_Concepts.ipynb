{
  "nbformat": 4,
  "nbformat_minor": 0,
  "metadata": {
    "colab": {
      "name": "Week_04_OOPS_Concepts.ipynb",
      "provenance": [],
      "collapsed_sections": [],
      "authorship_tag": "ABX9TyMVJHq2f8TW1V8gaZrfRPxV",
      "include_colab_link": true
    },
    "kernelspec": {
      "name": "python3",
      "display_name": "Python 3"
    }
  },
  "cells": [
    {
      "cell_type": "markdown",
      "metadata": {
        "id": "view-in-github",
        "colab_type": "text"
      },
      "source": [
        "<a href=\"https://colab.research.google.com/github/ashishpatil2017/Udemy-Python-Course/blob/main/Week_04_OOPS_Concepts.ipynb\" target=\"_parent\"><img src=\"https://colab.research.google.com/assets/colab-badge.svg\" alt=\"Open In Colab\"/></a>"
      ]
    },
    {
      "cell_type": "markdown",
      "metadata": {
        "id": "QBNZIAO2yvNO"
      },
      "source": [
        "###Object Oreiented Concepts : "
      ]
    },
    {
      "cell_type": "code",
      "metadata": {
        "id": "qrFSpM90ytij"
      },
      "source": [
        "#Lets check the syntax of OOPS\r\n",
        "class NameoftheClass():\r\n",
        "  \r\n",
        "  def __init__(self,param1,param2):\r\n",
        "    self.param1 = param1\r\n",
        "    self.param2 = param2\r\n",
        "  \r\n",
        "  def some_method(self):\r\n",
        "    #perform some action \r\n",
        "    print(self.param2)"
      ],
      "execution_count": 8,
      "outputs": []
    },
    {
      "cell_type": "code",
      "metadata": {
        "id": "7IaGoxBiUUeF"
      },
      "source": [
        "myclass = NameoftheClass(\"Ashish\",\"Patil\")"
      ],
      "execution_count": 9,
      "outputs": []
    },
    {
      "cell_type": "code",
      "metadata": {
        "colab": {
          "base_uri": "https://localhost:8080/"
        },
        "id": "u5VT0zfLVJZr",
        "outputId": "2dc30437-6da5-4874-9eb2-a3c4e7c8de83"
      },
      "source": [
        "print(type(myclass))\r\n",
        "print(myclass.some_method())\r\n",
        "print(myclass.param1)\r\n",
        "print(myclass.param2)"
      ],
      "execution_count": 14,
      "outputs": [
        {
          "output_type": "stream",
          "text": [
            "<class '__main__.NameoftheClass'>\n",
            "Patil\n",
            "None\n",
            "Ashish\n",
            "Patil\n"
          ],
          "name": "stdout"
        }
      ]
    },
    {
      "cell_type": "code",
      "metadata": {
        "colab": {
          "base_uri": "https://localhost:8080/",
          "height": 35
        },
        "id": "0uIgY0mOVOyg",
        "outputId": "32aa7ce0-0339-427a-a1a1-fd92128e2ef8"
      },
      "source": [
        "myclass.param1"
      ],
      "execution_count": 12,
      "outputs": [
        {
          "output_type": "execute_result",
          "data": {
            "application/vnd.google.colaboratory.intrinsic+json": {
              "type": "string"
            },
            "text/plain": [
              "'Ashish'"
            ]
          },
          "metadata": {
            "tags": []
          },
          "execution_count": 12
        }
      ]
    },
    {
      "cell_type": "code",
      "metadata": {
        "id": "WowJdXg0WND-"
      },
      "source": [
        "#Difference between method and object :\r\n",
        "#Methods are function inside the class"
      ],
      "execution_count": null,
      "outputs": []
    },
    {
      "cell_type": "code",
      "metadata": {
        "id": "crdo4uCCj2I9"
      },
      "source": [
        "#Method Example :\r\n",
        "class Dog():\r\n",
        "\r\n",
        "  def __init__(self,a,b):\r\n",
        "    self.a = a\r\n",
        "    self.b = b\r\n",
        "\r\n",
        "  def Operation(self,a,b):\r\n",
        "    add = self.a+self.b\r\n",
        "    print(\"Addition of {} and {} is {}\".format(self.a,self.b,add))"
      ],
      "execution_count": 29,
      "outputs": []
    },
    {
      "cell_type": "code",
      "metadata": {
        "colab": {
          "base_uri": "https://localhost:8080/"
        },
        "id": "9c8eUnQUkWoD",
        "outputId": "ab277f30-f2e9-4c1c-b399-07d0c5aa6031"
      },
      "source": [
        "mydog = Dog(2,4)\r\n",
        "print(mydog.a)\r\n",
        "print(mydog.b)\r\n",
        "print(mydog.Operation(2,4))"
      ],
      "execution_count": 31,
      "outputs": [
        {
          "output_type": "stream",
          "text": [
            "2\n",
            "4\n",
            "Addition of 2 and 4 is 6\n",
            "None\n"
          ],
          "name": "stdout"
        }
      ]
    },
    {
      "cell_type": "code",
      "metadata": {
        "id": "382S3BfLkbaa"
      },
      "source": [
        "#Circumference of the circle using class:\r\n",
        "class Circle():\r\n",
        "\r\n",
        "  pi = 3.14\r\n",
        "\r\n",
        "  def __init__(self,radius):\r\n",
        "    self.radius = radius\r\n",
        "  \r\n",
        "  def get_circumference(self):\r\n",
        "    return self.pi * self.radius * 2"
      ],
      "execution_count": 32,
      "outputs": []
    },
    {
      "cell_type": "code",
      "metadata": {
        "colab": {
          "base_uri": "https://localhost:8080/"
        },
        "id": "enUSLH-2kcRb",
        "outputId": "5bb341ff-5c98-43d7-b5df-ed0ffa000060"
      },
      "source": [
        "mycircle = Circle(30)\r\n",
        "print(mycircle.get_circumference())"
      ],
      "execution_count": 35,
      "outputs": [
        {
          "output_type": "stream",
          "text": [
            "188.4\n"
          ],
          "name": "stdout"
        }
      ]
    },
    {
      "cell_type": "markdown",
      "metadata": {
        "id": "Y8fHm4vMoAst"
      },
      "source": [
        "####Inheritance and Polimorphism"
      ]
    },
    {
      "cell_type": "code",
      "metadata": {
        "id": "7883KYPykedS"
      },
      "source": [
        "#Inheritance example :\r\n",
        "class Animal():\r\n",
        "\r\n",
        "  def __init__(self):\r\n",
        "    print(\"Animal created!\")\r\n",
        "\r\n",
        "  def who_i_am(self):\r\n",
        "    print(\"I am an animal!\")\r\n",
        "\r\n",
        "  def eat(self):\r\n",
        "    print(\"I am eating!\")\r\n",
        "\r\n",
        "class Dog(Animal):\r\n",
        "\r\n",
        "  def __init__(self):\r\n",
        "    Animal.__init__(self)\r\n",
        "    print(\"Dog created\")"
      ],
      "execution_count": 36,
      "outputs": []
    },
    {
      "cell_type": "code",
      "metadata": {
        "colab": {
          "base_uri": "https://localhost:8080/"
        },
        "id": "oP4vKxIUpQ_M",
        "outputId": "50dab410-d2fa-4194-e2c5-25a5c29a4b78"
      },
      "source": [
        "mydog = Dog()\r\n",
        "print(mydog.eat())\r\n",
        "print(mydog.who_i_am())"
      ],
      "execution_count": 40,
      "outputs": [
        {
          "output_type": "stream",
          "text": [
            "Animal created!\n",
            "Dog created\n",
            "I am eating!\n",
            "None\n",
            "I am an animal!\n",
            "None\n"
          ],
          "name": "stdout"
        }
      ]
    },
    {
      "cell_type": "code",
      "metadata": {
        "id": "N_vuNzTspS3X"
      },
      "source": [
        "#Polimorphism explained with example :\r\n",
        "class Dog():\r\n",
        "\r\n",
        "  def __init__(self,name):\r\n",
        "    self.name = name\r\n",
        "\r\n",
        "  def speak(self):\r\n",
        "    print(\"{} says woow\".format(self.name))\r\n",
        "  \r\n",
        "class Cat():\r\n",
        "\r\n",
        "  def __init__(self,name):\r\n",
        "    self.name = name\r\n",
        "\r\n",
        "  def speak(self):\r\n",
        "    print(\"{} says meow\".format(self.name))"
      ],
      "execution_count": 48,
      "outputs": []
    },
    {
      "cell_type": "code",
      "metadata": {
        "id": "-PccKpsir_rd"
      },
      "source": [
        "mydog = Dog(\"sam\")\r\n",
        "mycat = Cat(\"cattie\")"
      ],
      "execution_count": 49,
      "outputs": []
    },
    {
      "cell_type": "code",
      "metadata": {
        "colab": {
          "base_uri": "https://localhost:8080/"
        },
        "id": "ujeTbIzcsH7R",
        "outputId": "97c473bb-afaa-4278-90f0-0b5a720b9ad7"
      },
      "source": [
        "#both the classes have same method but they are working independently , this feature of oops is known as poliymorphism\r\n",
        "mydog.speak()\r\n",
        "mycat.speak()"
      ],
      "execution_count": 51,
      "outputs": [
        {
          "output_type": "stream",
          "text": [
            "sam says woow\n",
            "cattie says meow\n"
          ],
          "name": "stdout"
        }
      ]
    },
    {
      "cell_type": "code",
      "metadata": {
        "id": "MlxpDgzisJWt"
      },
      "source": [
        ""
      ],
      "execution_count": null,
      "outputs": []
    }
  ]
}