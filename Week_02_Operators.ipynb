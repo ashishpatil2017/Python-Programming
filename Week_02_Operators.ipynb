{
  "nbformat": 4,
  "nbformat_minor": 0,
  "metadata": {
    "colab": {
      "name": "Week_02_Operators.ipynb",
      "provenance": [],
      "collapsed_sections": [],
      "authorship_tag": "ABX9TyN4fNtFHkeFjWRTO3vOzk4v",
      "include_colab_link": true
    },
    "kernelspec": {
      "name": "python3",
      "display_name": "Python 3"
    }
  },
  "cells": [
    {
      "cell_type": "markdown",
      "metadata": {
        "id": "view-in-github",
        "colab_type": "text"
      },
      "source": [
        "<a href=\"https://colab.research.google.com/github/ashishpatil2017/Udemy-Python-Course/blob/main/Week_02_Operators.ipynb\" target=\"_parent\"><img src=\"https://colab.research.google.com/assets/colab-badge.svg\" alt=\"Open In Colab\"/></a>"
      ]
    },
    {
      "cell_type": "markdown",
      "metadata": {
        "id": "BwnQ_PLlHhaX"
      },
      "source": [
        "###Comparison Operators in Python : "
      ]
    },
    {
      "cell_type": "code",
      "metadata": {
        "colab": {
          "base_uri": "https://localhost:8080/"
        },
        "id": "n4U4iWGsHdvO",
        "outputId": "fe9446ad-ca4f-4c8f-868d-81141eebff9f"
      },
      "source": [
        "#different comparison operator :\r\n",
        "# == , != , > , < , >= , <= \r\n",
        "\r\n",
        "#Logical comparison operator : \r\n",
        "# and , or , in "
      ],
      "execution_count": null,
      "outputs": [
        {
          "output_type": "execute_result",
          "data": {
            "text/plain": [
              "False"
            ]
          },
          "metadata": {
            "tags": []
          },
          "execution_count": 1
        }
      ]
    },
    {
      "cell_type": "markdown",
      "metadata": {
        "id": "PhKGXpEJOpIW"
      },
      "source": [
        "### Python Statments : "
      ]
    },
    {
      "cell_type": "code",
      "metadata": {
        "colab": {
          "base_uri": "https://localhost:8080/"
        },
        "id": "9lcWTXVXOTWg",
        "outputId": "5b4abd3b-d0d0-4a88-dc8e-e97a50b2c795"
      },
      "source": [
        "#learn systex of if , elif and else \r\n",
        "#Example :\r\n",
        "name = \"Ashish\"\r\n",
        "if(name == \"Ashish\"):\r\n",
        "  print(\"Hi Ashish \")\r\n",
        "elif(name == \"Tushar\"):\r\n",
        "  print(\"Hi Tushar\")\r\n",
        "else:\r\n",
        "  print(\"What is your Name?\")"
      ],
      "execution_count": null,
      "outputs": [
        {
          "output_type": "stream",
          "text": [
            "Hi Ashish \n"
          ],
          "name": "stdout"
        }
      ]
    },
    {
      "cell_type": "code",
      "metadata": {
        "colab": {
          "base_uri": "https://localhost:8080/"
        },
        "id": "R1dXSFJBO-aT",
        "outputId": "bbc7705e-52ea-48be-d507-97c71eca598d"
      },
      "source": [
        "#For loops in Python : \r\n",
        "my_list = [1,2,3,4,5,6,7,8,9,10]\r\n",
        "for num in my_list:\r\n",
        "  print(num)\r\n",
        "\r\n",
        "list_sum = 0\r\n",
        "for num in my_list:\r\n",
        "  list_sum = list_sum + num\r\n",
        "print(\"Sum of the list is {}\".format(list_sum))"
      ],
      "execution_count": null,
      "outputs": [
        {
          "output_type": "stream",
          "text": [
            "1\n",
            "2\n",
            "3\n",
            "4\n",
            "5\n",
            "6\n",
            "7\n",
            "8\n",
            "9\n",
            "10\n",
            "Sum of the list is 55\n"
          ],
          "name": "stdout"
        }
      ]
    },
    {
      "cell_type": "code",
      "metadata": {
        "colab": {
          "base_uri": "https://localhost:8080/"
        },
        "id": "tSrN6FtMRGne",
        "outputId": "22b906b8-7563-441a-fcab-bde4fe28790b"
      },
      "source": [
        "#Working with string :\r\n",
        "mystring = \"ABCDEFGH\"\r\n",
        "for letter in mystring :\r\n",
        "  print(\"Character : {} with its ASCII Value : {}\".format(letter,ord(letter)))"
      ],
      "execution_count": null,
      "outputs": [
        {
          "output_type": "stream",
          "text": [
            "Character : A with its ASCII Value : 65\n",
            "Character : B with its ASCII Value : 66\n",
            "Character : C with its ASCII Value : 67\n",
            "Character : D with its ASCII Value : 68\n",
            "Character : E with its ASCII Value : 69\n",
            "Character : F with its ASCII Value : 70\n",
            "Character : G with its ASCII Value : 71\n",
            "Character : H with its ASCII Value : 72\n"
          ],
          "name": "stdout"
        }
      ]
    },
    {
      "cell_type": "code",
      "metadata": {
        "colab": {
          "base_uri": "https://localhost:8080/"
        },
        "id": "4B29w8DzSrV3",
        "outputId": "4dae7f30-3782-486e-d7b8-cd5dcfe03247"
      },
      "source": [
        "#Iterate through dictionaries :\r\n",
        "d = {'k1':1,'k2':2}\r\n",
        "for item in d:\r\n",
        "  print(item)\r\n",
        "\r\n",
        "print(\"\\n\")\r\n",
        "\r\n",
        "for key,val in d.items():\r\n",
        "  print(key)\r\n",
        "  print(val)\r\n",
        "\r\n",
        "print(\"\\n\")\r\n",
        "\r\n",
        "\r\n",
        "for item in d.values():\r\n",
        "  print(item)"
      ],
      "execution_count": null,
      "outputs": [
        {
          "output_type": "stream",
          "text": [
            "k1\n",
            "k2\n",
            "\n",
            "\n",
            "k1\n",
            "1\n",
            "k2\n",
            "2\n",
            "\n",
            "\n",
            "1\n",
            "2\n"
          ],
          "name": "stdout"
        }
      ]
    },
    {
      "cell_type": "code",
      "metadata": {
        "colab": {
          "base_uri": "https://localhost:8080/"
        },
        "id": "oBiqgB8-TxxG",
        "outputId": "dc6e9107-09b3-48a5-f085-9ee6a2a2751e"
      },
      "source": [
        "#While loops in python : \r\n",
        "n = 0\r\n",
        "while (n<5):\r\n",
        "  print(n)\r\n",
        "  n = n+1"
      ],
      "execution_count": null,
      "outputs": [
        {
          "output_type": "stream",
          "text": [
            "0\n",
            "1\n",
            "2\n",
            "3\n",
            "4\n",
            "True\n"
          ],
          "name": "stdout"
        }
      ]
    },
    {
      "cell_type": "code",
      "metadata": {
        "id": "5d9cpyAHZ96U"
      },
      "source": [
        "#break : breaks the loop\r\n",
        "#continue : continues the loop \r\n",
        "#pass : it will do nothing "
      ],
      "execution_count": null,
      "outputs": []
    },
    {
      "cell_type": "code",
      "metadata": {
        "colab": {
          "base_uri": "https://localhost:8080/"
        },
        "id": "3BGES262cbwm",
        "outputId": "a57951be-dc87-4cfd-9e6f-d324b8f918cb"
      },
      "source": [
        "#Useful operators in python : \r\n",
        "#range function in python \r\n",
        "for i in range(0,10):\r\n",
        "  print(i)\r\n",
        "\r\n",
        "#Enumerate function in python \r\n",
        "word = \"god\"\r\n",
        "for index,letter in enumerate(word):\r\n",
        "  print(index)\r\n",
        "  print(letter)\r\n",
        "\r\n",
        "#Zip function in python \r\n",
        "list1 = [1,2,3]\r\n",
        "list2 = ['a','b','c']\r\n",
        "for i in zip(list1,list2):\r\n",
        "  print(i)\r\n",
        "\r\n",
        "#min and max in python \r\n",
        "l = [20,10,30,40]\r\n",
        "print(min(l))\r\n",
        "print(max(l))"
      ],
      "execution_count": null,
      "outputs": [
        {
          "output_type": "stream",
          "text": [
            "0\n",
            "1\n",
            "2\n",
            "3\n",
            "4\n",
            "5\n",
            "6\n",
            "7\n",
            "8\n",
            "9\n",
            "0\n",
            "g\n",
            "1\n",
            "o\n",
            "2\n",
            "d\n",
            "(1, 'a')\n",
            "(2, 'b')\n",
            "(3, 'c')\n",
            "10\n",
            "40\n"
          ],
          "name": "stdout"
        }
      ]
    },
    {
      "cell_type": "code",
      "metadata": {
        "colab": {
          "base_uri": "https://localhost:8080/"
        },
        "id": "FYFUWzA1csLa",
        "outputId": "63145e73-06a4-4bd7-a39c-96e23f341178"
      },
      "source": [
        "#randint function in python : \r\n",
        "from random import randint\r\n",
        "print(randint(0,1000))"
      ],
      "execution_count": null,
      "outputs": [
        {
          "output_type": "stream",
          "text": [
            "134\n"
          ],
          "name": "stdout"
        }
      ]
    },
    {
      "cell_type": "code",
      "metadata": {
        "colab": {
          "base_uri": "https://localhost:8080/"
        },
        "id": "_rikkFatfTUg",
        "outputId": "fa57aada-a709-44fb-efcb-b873cebe53bc"
      },
      "source": [
        "int(input(\"Enter a number :\"))"
      ],
      "execution_count": null,
      "outputs": [
        {
          "output_type": "stream",
          "text": [
            "Enter a number :50\n"
          ],
          "name": "stdout"
        },
        {
          "output_type": "execute_result",
          "data": {
            "text/plain": [
              "50"
            ]
          },
          "metadata": {
            "tags": []
          },
          "execution_count": 12
        }
      ]
    },
    {
      "cell_type": "code",
      "metadata": {
        "colab": {
          "base_uri": "https://localhost:8080/"
        },
        "id": "C5hz3_6LfVGo",
        "outputId": "31960755-a73b-4332-b9f4-15c78df8b306"
      },
      "source": [
        "#List Comprehensions in python : \r\n",
        "word = \"Ashish\"\r\n",
        "mylist = [i for i in word]\r\n",
        "print(mylist)"
      ],
      "execution_count": null,
      "outputs": [
        {
          "output_type": "stream",
          "text": [
            "['A', 's', 'h', 'i', 's', 'h']\n"
          ],
          "name": "stdout"
        }
      ]
    },
    {
      "cell_type": "code",
      "metadata": {
        "colab": {
          "base_uri": "https://localhost:8080/"
        },
        "id": "EsfYzctThYkS",
        "outputId": "671d4527-624a-40af-a739-62d3a2bb99fa"
      },
      "source": [
        "#we can add if statment in list comprehensions\r\n",
        "mylist = [x for x in range(0,11) if x%2==0]\r\n",
        "print(mylist)"
      ],
      "execution_count": null,
      "outputs": [
        {
          "output_type": "stream",
          "text": [
            "[0, 2, 4, 6, 8, 10]\n"
          ],
          "name": "stdout"
        }
      ]
    },
    {
      "cell_type": "code",
      "metadata": {
        "colab": {
          "base_uri": "https://localhost:8080/"
        },
        "id": "Rfiff043iAGS",
        "outputId": "bb4e356f-fc71-4712-ccf5-0d9026f44af3"
      },
      "source": [
        "#Convert temperation in celsius to fehreniet : \r\n",
        "celsius = [0, 10, 20, 34.5]\r\n",
        "\r\n",
        "f = [((9/5)*temp + 32) for temp in celsius]\r\n",
        "print(f)"
      ],
      "execution_count": null,
      "outputs": [
        {
          "output_type": "stream",
          "text": [
            "[32.0, 50.0, 68.0, 94.1]\n"
          ],
          "name": "stdout"
        }
      ]
    },
    {
      "cell_type": "code",
      "metadata": {
        "colab": {
          "base_uri": "https://localhost:8080/"
        },
        "id": "uD8MrkiVil9M",
        "outputId": "82bd3f4b-cca1-4f61-f637-813510d87810"
      },
      "source": [
        "mylist = [x if x%2==0 else \"ODD\" for x in range(0,11)]\r\n",
        "print(mylist)"
      ],
      "execution_count": null,
      "outputs": [
        {
          "output_type": "stream",
          "text": [
            "[0, 'ODD', 2, 'ODD', 4, 'ODD', 6, 'ODD', 8, 'ODD', 10]\n"
          ],
          "name": "stdout"
        }
      ]
    }
  ]
}