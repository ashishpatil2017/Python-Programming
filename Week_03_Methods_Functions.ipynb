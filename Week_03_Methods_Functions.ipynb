{
  "nbformat": 4,
  "nbformat_minor": 0,
  "metadata": {
    "colab": {
      "name": "Week_03_Methods_Functions.ipynb",
      "provenance": [],
      "collapsed_sections": [],
      "authorship_tag": "ABX9TyMOeKF/GRL0WvKR8j26i5Ck",
      "include_colab_link": true
    },
    "kernelspec": {
      "name": "python3",
      "display_name": "Python 3"
    }
  },
  "cells": [
    {
      "cell_type": "markdown",
      "metadata": {
        "id": "view-in-github",
        "colab_type": "text"
      },
      "source": [
        "<a href=\"https://colab.research.google.com/github/ashishpatil2017/Udemy-Python-Course/blob/main/Week_03_Methods_Functions.ipynb\" target=\"_parent\"><img src=\"https://colab.research.google.com/assets/colab-badge.svg\" alt=\"Open In Colab\"/></a>"
      ]
    },
    {
      "cell_type": "markdown",
      "metadata": {
        "id": "zppunmzF3sCA"
      },
      "source": [
        "###Methods and Functions :"
      ]
    },
    {
      "cell_type": "code",
      "metadata": {
        "id": "S5oXngyy3vIL"
      },
      "source": [
        "#List methods :\r\n",
        "#1)append\r\n",
        "#2)pop()\r\n",
        "mylist= [1,2,3]\r\n",
        "#for more methods you can check on website"
      ],
      "execution_count": null,
      "outputs": []
    },
    {
      "cell_type": "code",
      "metadata": {
        "colab": {
          "base_uri": "https://localhost:8080/"
        },
        "id": "ZaqlfOWa5JML",
        "outputId": "f8453bf2-2952-4cce-f69e-234d97344f54"
      },
      "source": [
        "#Intruduction to functions : \r\n",
        "#def keyword in python \r\n",
        "def name(name):\r\n",
        "  print(\"Hello {}\".format(name))\r\n",
        "\r\n",
        "name(\"Ashish\")"
      ],
      "execution_count": null,
      "outputs": [
        {
          "output_type": "stream",
          "text": [
            "Hello Ashish\n"
          ],
          "name": "stdout"
        }
      ]
    },
    {
      "cell_type": "code",
      "metadata": {
        "colab": {
          "base_uri": "https://localhost:8080/"
        },
        "id": "SaxX-TwO7mHI",
        "outputId": "9d7731dd-d900-4097-a7cd-8a6449860796"
      },
      "source": [
        "def add_two(a,b):\r\n",
        "  return a+b\r\n",
        "\r\n",
        "print(add_two(2,3))"
      ],
      "execution_count": null,
      "outputs": [
        {
          "output_type": "stream",
          "text": [
            "5\n"
          ],
          "name": "stdout"
        }
      ]
    },
    {
      "cell_type": "code",
      "metadata": {
        "colab": {
          "base_uri": "https://localhost:8080/"
        },
        "id": "YnCkE-kz7vGm",
        "outputId": "5d07cf20-b366-4104-9617-6d8924cb1515"
      },
      "source": [
        "def even_check(num):\r\n",
        "  return num%2==0\r\n",
        "\r\n",
        "print(even_check(20))\r\n",
        "print(even_check(21))"
      ],
      "execution_count": null,
      "outputs": [
        {
          "output_type": "stream",
          "text": [
            "True\n",
            "False\n"
          ],
          "name": "stdout"
        }
      ]
    },
    {
      "cell_type": "code",
      "metadata": {
        "colab": {
          "base_uri": "https://localhost:8080/"
        },
        "id": "wiPOjlSX-qpD",
        "outputId": "1642ef34-3c59-4e76-e2b5-6102551f9258"
      },
      "source": [
        "def even_list(list1):\r\n",
        "  even_numbers = []\r\n",
        "  for i in list1:\r\n",
        "    if(i%2==0):\r\n",
        "      even_numbers.append(i)\r\n",
        "  return even_numbers\r\n",
        "\r\n",
        "print(even_list([1,2,3,4,5,6,7]))"
      ],
      "execution_count": null,
      "outputs": [
        {
          "output_type": "stream",
          "text": [
            "[2, 4, 6]\n"
          ],
          "name": "stdout"
        }
      ]
    },
    {
      "cell_type": "code",
      "metadata": {
        "id": "6VeDqgV5gSgK"
      },
      "source": [
        "#Interaction between Python function : \r\n",
        "#Coding Excierise : Player guess game :\r\n",
        "from random import shuffle\r\n"
      ],
      "execution_count": null,
      "outputs": []
    },
    {
      "cell_type": "code",
      "metadata": {
        "id": "-NevUoY2ifST"
      },
      "source": [
        "def shuffle_list(my_list):\r\n",
        "  shuffle(my_list)\r\n",
        "  return my_list\r\n",
        "\r\n",
        "def user_guess():\r\n",
        "  guess = \"\"\r\n",
        "  while guess not in ['0','1','2']:\r\n",
        "    guess = input(\"Enter 0, 1 or 2 :\")\r\n",
        "  return int(guess)\r\n",
        "\r\n",
        "def check_guess(mixed_list, guess):\r\n",
        "  if(mixed_list[guess] == '0'):\r\n",
        "    print(\"Correct guess!\")\r\n",
        "  else:\r\n",
        "    print(\"Wrong guess!\")\r\n",
        "  print(mixed_list)"
      ],
      "execution_count": null,
      "outputs": []
    },
    {
      "cell_type": "code",
      "metadata": {
        "colab": {
          "base_uri": "https://localhost:8080/"
        },
        "id": "R5WFAt0XiJuU",
        "outputId": "73e76f7d-8bf4-4417-e082-c4b3b3f8cdeb"
      },
      "source": [
        "#INITIAL LIST \r\n",
        "my_list = [' ','0',' ']\r\n",
        "\r\n",
        "#SHUFFLE LIST \r\n",
        "mixed_list = shuffle_list(my_list)\r\n",
        "\r\n",
        "#USER GUESS\r\n",
        "guess = user_guess()\r\n",
        "\r\n",
        "#CHECK GUESS\r\n",
        "check_guess(mixed_list,guess)"
      ],
      "execution_count": null,
      "outputs": [
        {
          "output_type": "stream",
          "text": [
            "Enter 0, 1 or 2 :1\n",
            "Correct guess!\n",
            "[' ', '0', ' ']\n"
          ],
          "name": "stdout"
        }
      ]
    },
    {
      "cell_type": "code",
      "metadata": {
        "colab": {
          "base_uri": "https://localhost:8080/",
          "height": 35
        },
        "id": "PQHuw673i_oG",
        "outputId": "b55b15f6-23ef-433c-81ee-4f02e35a2147"
      },
      "source": [
        "guess"
      ],
      "execution_count": null,
      "outputs": [
        {
          "output_type": "execute_result",
          "data": {
            "application/vnd.google.colaboratory.intrinsic+json": {
              "type": "string"
            },
            "text/plain": [
              "'2'"
            ]
          },
          "metadata": {
            "tags": []
          },
          "execution_count": 15
        }
      ]
    },
    {
      "cell_type": "code",
      "metadata": {
        "id": "94O9GxwfjCs_"
      },
      "source": [
        "def myfunc(name):\r\n",
        "    print(\"Hello {}\".format(name))"
      ],
      "execution_count": null,
      "outputs": []
    },
    {
      "cell_type": "code",
      "metadata": {
        "id": "r8WWuYCOk1V1"
      },
      "source": [
        "def myfunc(check):\r\n",
        "    if check:\r\n",
        "        return \"Hello\"\r\n",
        "    else:\r\n",
        "        return \"Goodbye\""
      ],
      "execution_count": null,
      "outputs": []
    },
    {
      "cell_type": "code",
      "metadata": {
        "colab": {
          "base_uri": "https://localhost:8080/",
          "height": 35
        },
        "id": "6IVmhKiLk3fu",
        "outputId": "0835be23-840a-4a03-eefc-a74fcb16fc8a"
      },
      "source": [
        "myfunc(False)"
      ],
      "execution_count": null,
      "outputs": [
        {
          "output_type": "execute_result",
          "data": {
            "application/vnd.google.colaboratory.intrinsic+json": {
              "type": "string"
            },
            "text/plain": [
              "'Goodbye'"
            ]
          },
          "metadata": {
            "tags": []
          },
          "execution_count": 29
        }
      ]
    },
    {
      "cell_type": "code",
      "metadata": {
        "id": "8ESDA2BUlL_H"
      },
      "source": [
        ""
      ],
      "execution_count": null,
      "outputs": []
    }
  ]
}