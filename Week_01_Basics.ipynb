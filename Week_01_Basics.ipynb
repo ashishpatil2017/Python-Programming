{
  "nbformat": 4,
  "nbformat_minor": 0,
  "metadata": {
    "colab": {
      "name": "Week_01_Basics.ipynb",
      "provenance": [],
      "collapsed_sections": [],
      "authorship_tag": "ABX9TyPufmAVFxCmogehAVPciudp",
      "include_colab_link": true
    },
    "kernelspec": {
      "name": "python3",
      "display_name": "Python 3"
    }
  },
  "cells": [
    {
      "cell_type": "markdown",
      "metadata": {
        "id": "view-in-github",
        "colab_type": "text"
      },
      "source": [
        "<a href=\"https://colab.research.google.com/github/ashishpatil2017/Udemy-Python-Course/blob/main/Week_01_Basics.ipynb\" target=\"_parent\"><img src=\"https://colab.research.google.com/assets/colab-badge.svg\" alt=\"Open In Colab\"/></a>"
      ]
    },
    {
      "cell_type": "markdown",
      "metadata": {
        "id": "xc-gXYIwtpTV"
      },
      "source": [
        "### Python Objects and Data Structurs Basics : "
      ]
    },
    {
      "cell_type": "code",
      "metadata": {
        "id": "YdKTAN6ztora"
      },
      "source": [
        "#Different types of data types in python \r\n",
        "# 1)Integer\r\n",
        "# 2)Float\r\n",
        "# 3)String\r\n",
        "# 4)List\r\n",
        "# 5)Dictionary\r\n",
        "# 6)Tuple\r\n",
        "# 7)Boolean"
      ],
      "execution_count": null,
      "outputs": []
    },
    {
      "cell_type": "code",
      "metadata": {
        "id": "O-5NXFZ4j5Hr"
      },
      "source": [
        "#Understand the difference betweeen / , // and % \r\n",
        "# / gives you floating number\r\n",
        "# // gives you integer number\r\n",
        "# % gives you remainder"
      ],
      "execution_count": null,
      "outputs": []
    },
    {
      "cell_type": "code",
      "metadata": {
        "colab": {
          "base_uri": "https://localhost:8080/"
        },
        "id": "mkm4rnMusxkW",
        "outputId": "abcd9d61-5c48-4b5d-ee85-6032945d89dd"
      },
      "source": [
        "# type function to check type of a variable \r\n",
        "a=2\r\n",
        "print(type(a))\r\n",
        "a=[1,2]\r\n",
        "print(type(a))"
      ],
      "execution_count": null,
      "outputs": [
        {
          "output_type": "stream",
          "text": [
            "<class 'int'>\n",
            "<class 'list'>\n"
          ],
          "name": "stdout"
        }
      ]
    },
    {
      "cell_type": "code",
      "metadata": {
        "colab": {
          "base_uri": "https://localhost:8080/"
        },
        "id": "Jt2JgOc-0ZIL",
        "outputId": "3342df69-2301-4d92-90af-1b43cdf4bf44"
      },
      "source": [
        "#String Indexing : \r\n",
        "a=\"Ashish Patil\"\r\n",
        "print(a[0])\r\n",
        "print(a[-1])#reverse indexing\r\n",
        "print(a[-2])#reverse indexing"
      ],
      "execution_count": null,
      "outputs": [
        {
          "output_type": "stream",
          "text": [
            "A\n",
            "l\n",
            "i\n"
          ],
          "name": "stdout"
        }
      ]
    },
    {
      "cell_type": "code",
      "metadata": {
        "colab": {
          "base_uri": "https://localhost:8080/"
        },
        "id": "LqPjItAivQNu",
        "outputId": "e96073ea-2105-48d8-8c67-ff306238780c"
      },
      "source": [
        "#String Slicing : \r\n",
        "a = 'ashish patil'\r\n",
        "print(a[2:5])\r\n",
        "print(a[:5])\r\n",
        "print(a[0:])\r\n",
        "print(a[:-2])"
      ],
      "execution_count": null,
      "outputs": [
        {
          "output_type": "stream",
          "text": [
            "his\n",
            "ashis\n",
            "ashish patil\n",
            "ashish pat\n"
          ],
          "name": "stdout"
        }
      ]
    },
    {
      "cell_type": "code",
      "metadata": {
        "id": "1iDFe3k1vRZ6"
      },
      "source": [
        "#\\n - for next line\r\n",
        "#\\t - for tab"
      ],
      "execution_count": null,
      "outputs": []
    },
    {
      "cell_type": "code",
      "metadata": {
        "colab": {
          "base_uri": "https://localhost:8080/"
        },
        "id": "BopzH1_5z8j5",
        "outputId": "1af68b0e-14c6-42b9-9b78-d887eaf1a2e2"
      },
      "source": [
        "len(\"Ashish Patil\")"
      ],
      "execution_count": null,
      "outputs": [
        {
          "output_type": "execute_result",
          "data": {
            "text/plain": [
              "12"
            ]
          },
          "metadata": {
            "tags": []
          },
          "execution_count": 42
        }
      ]
    },
    {
      "cell_type": "code",
      "metadata": {
        "id": "RtALkR9C0Iv1"
      },
      "source": [
        "#String Properties and String Methods \r\n",
        "# - String Concatination\r\n",
        "# -Methods : split , upper , lower etc"
      ],
      "execution_count": null,
      "outputs": []
    },
    {
      "cell_type": "code",
      "metadata": {
        "colab": {
          "base_uri": "https://localhost:8080/"
        },
        "id": "EIG6Ygc92exk",
        "outputId": "c54a19e4-dd32-42e9-909c-d9b2f2e25690"
      },
      "source": [
        "#Print Formating for String :\r\n",
        "a= \"Ashish Patil\"\r\n",
        "print(\"My name is {}\".format(a))\r\n",
        "\r\n",
        "name = \"jose\"\r\n",
        "print(\"Hello, his name is {}\".format(name))"
      ],
      "execution_count": null,
      "outputs": [
        {
          "output_type": "stream",
          "text": [
            "My name is Ashish Patil\n",
            "0.1287001287001287\n",
            "answer is 0.1287001287001287\n",
            "Hello, his name is jose\n"
          ],
          "name": "stdout"
        }
      ]
    },
    {
      "cell_type": "code",
      "metadata": {
        "colab": {
          "base_uri": "https://localhost:8080/"
        },
        "id": "jrxfjZ8DCIvK",
        "outputId": "d6ebbfde-0100-4b86-bc56-4726eade7219"
      },
      "source": [
        "##Lists in Python\r\n",
        "#List indexing, List Slicing\r\n",
        "my_list = [123,\"Ashish\",45.3]\r\n",
        "my_list[1:]\r\n",
        "print(my_list[:-1])\r\n",
        "\r\n",
        "#List Methods\r\n",
        "my_list.append(\"Hello\")\r\n",
        "print(my_list)\r\n",
        "\r\n",
        "#List pop - removed element of list from any position based on index value we pass\r\n",
        "#List sort - sorts the existing list also called inplace sorting \r\n",
        "#List reverse - reverses the element of list "
      ],
      "execution_count": null,
      "outputs": [
        {
          "output_type": "stream",
          "text": [
            "[123, 'Ashish']\n",
            "[123, 'Ashish', 45.3, 'Hello']\n"
          ],
          "name": "stdout"
        }
      ]
    },
    {
      "cell_type": "code",
      "metadata": {
        "colab": {
          "base_uri": "https://localhost:8080/"
        },
        "id": "4gdrdlDMJBoV",
        "outputId": "e7f8bb04-5686-4e34-dc10-23d6da6498ac"
      },
      "source": [
        "#Dictionaries in Python : \r\n",
        "my_dict = {'apple':2.99,'orange':1.99,'milk':3}\r\n",
        "print(my_dict['apple'])\r\n",
        "print(\"Price of Milk is {}\".format(my_dict['milk']))\r\n",
        "print(my_dict.keys())\r\n",
        "print(my_dict.values())"
      ],
      "execution_count": null,
      "outputs": [
        {
          "output_type": "stream",
          "text": [
            "2.99\n",
            "Price of Milk is 3\n",
            "dict_keys(['apple', 'orange', 'milk'])\n",
            "dict_values([2.99, 1.99, 3])\n"
          ],
          "name": "stdout"
        }
      ]
    },
    {
      "cell_type": "code",
      "metadata": {
        "id": "Gq2mwxWBJNIH"
      },
      "source": [
        "#Tuples in Python : \r\n",
        "#different tuple methods : count, index etc\r\n",
        "#tuples are immutable "
      ],
      "execution_count": null,
      "outputs": []
    },
    {
      "cell_type": "code",
      "metadata": {
        "colab": {
          "base_uri": "https://localhost:8080/"
        },
        "id": "a2bVFIYqP6Gn",
        "outputId": "a865b979-c3ac-4587-e9aa-93183f0fd3b8"
      },
      "source": [
        "#Sets In python : \r\n",
        "#Unorder collection of unique element \r\n",
        "#You cannot repeat element in sets\r\n",
        "myset = set()\r\n",
        "myset.add(2)\r\n",
        "myset.add(3)\r\n",
        "myset.add(2)\r\n",
        "print(myset)"
      ],
      "execution_count": null,
      "outputs": [
        {
          "output_type": "stream",
          "text": [
            "{2, 3}\n"
          ],
          "name": "stdout"
        }
      ]
    },
    {
      "cell_type": "code",
      "metadata": {
        "colab": {
          "base_uri": "https://localhost:8080/"
        },
        "id": "kmqDFXvpQJqK",
        "outputId": "d219780a-2448-4f3a-82c1-9efe7c630c8b"
      },
      "source": [
        "#Booleans in python :\r\n",
        "2<1"
      ],
      "execution_count": null,
      "outputs": [
        {
          "output_type": "execute_result",
          "data": {
            "text/plain": [
              "False"
            ]
          },
          "metadata": {
            "tags": []
          },
          "execution_count": 103
        }
      ]
    },
    {
      "cell_type": "markdown",
      "metadata": {
        "id": "JXLUwQZOSQ6S"
      },
      "source": [
        "###Files In Python"
      ]
    },
    {
      "cell_type": "code",
      "metadata": {
        "id": "YWFjZ2v2U0wy"
      },
      "source": [
        "file = open(\"basic.txt\",'w')"
      ],
      "execution_count": null,
      "outputs": []
    },
    {
      "cell_type": "code",
      "metadata": {
        "colab": {
          "base_uri": "https://localhost:8080/"
        },
        "id": "5wZDlUJEU7ie",
        "outputId": "ef21531d-4875-4a55-982b-71ad1e00ff23"
      },
      "source": [
        "print(type(file))"
      ],
      "execution_count": null,
      "outputs": [
        {
          "output_type": "stream",
          "text": [
            "<class '_io.TextIOWrapper'>\n"
          ],
          "name": "stdout"
        }
      ]
    },
    {
      "cell_type": "code",
      "metadata": {
        "id": "B-ocLk-5WHRK"
      },
      "source": [
        "file.write(\"Ashish Patil\")\r\n",
        "file.close()"
      ],
      "execution_count": null,
      "outputs": []
    },
    {
      "cell_type": "code",
      "metadata": {
        "id": "5jUEH99yU9bz"
      },
      "source": [
        "file = open(\"basic.txt\",'r')"
      ],
      "execution_count": null,
      "outputs": []
    },
    {
      "cell_type": "code",
      "metadata": {
        "colab": {
          "base_uri": "https://localhost:8080/",
          "height": 35
        },
        "id": "zxz6g8C0VMhh",
        "outputId": "f9b1d712-9cf3-487b-9a47-8d4fa3df27e1"
      },
      "source": [
        "file.read()"
      ],
      "execution_count": null,
      "outputs": [
        {
          "output_type": "execute_result",
          "data": {
            "application/vnd.google.colaboratory.intrinsic+json": {
              "type": "string"
            },
            "text/plain": [
              "'Ashish Patil'"
            ]
          },
          "metadata": {
            "tags": []
          },
          "execution_count": 141
        }
      ]
    },
    {
      "cell_type": "code",
      "metadata": {
        "colab": {
          "base_uri": "https://localhost:8080/"
        },
        "id": "KZx1AVuZVOgJ",
        "outputId": "a5a62d47-dfd0-4f75-c2c5-4071ef74f123"
      },
      "source": [
        "file.seek(0)"
      ],
      "execution_count": null,
      "outputs": [
        {
          "output_type": "execute_result",
          "data": {
            "text/plain": [
              "0"
            ]
          },
          "metadata": {
            "tags": []
          },
          "execution_count": 140
        }
      ]
    },
    {
      "cell_type": "code",
      "metadata": {
        "id": "WJQjhvaIWjHU"
      },
      "source": [
        "# w : write into the file \r\n",
        "# r : read into the file \r\n",
        "# a : append into the file \r\n",
        "# r+ : reading and writing \r\n",
        "# w+ : writing and reading "
      ],
      "execution_count": null,
      "outputs": []
    },
    {
      "cell_type": "code",
      "metadata": {
        "id": "s-KpBDLzbvJ3"
      },
      "source": [
        "file = open('basics.txt','w+')"
      ],
      "execution_count": null,
      "outputs": []
    },
    {
      "cell_type": "code",
      "metadata": {
        "colab": {
          "base_uri": "https://localhost:8080/",
          "height": 35
        },
        "id": "hwTKYmW6bzYT",
        "outputId": "f89eae0e-3aa7-4e5e-a477-9292c7732131"
      },
      "source": [
        "file.read()"
      ],
      "execution_count": null,
      "outputs": [
        {
          "output_type": "execute_result",
          "data": {
            "application/vnd.google.colaboratory.intrinsic+json": {
              "type": "string"
            },
            "text/plain": [
              "''"
            ]
          },
          "metadata": {
            "tags": []
          },
          "execution_count": 144
        }
      ]
    }
  ]
}