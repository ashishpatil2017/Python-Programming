{
  "nbformat": 4,
  "nbformat_minor": 0,
  "metadata": {
    "colab": {
      "name": "Python_Programming.ipynb",
      "provenance": [],
      "collapsed_sections": [],
      "toc_visible": true,
      "authorship_tag": "ABX9TyNlz5JjqrzFXvmk5OY+COFY",
      "include_colab_link": true
    },
    "kernelspec": {
      "name": "python3",
      "display_name": "Python 3"
    }
  },
  "cells": [
    {
      "cell_type": "markdown",
      "metadata": {
        "id": "view-in-github",
        "colab_type": "text"
      },
      "source": [
        "<a href=\"https://colab.research.google.com/github/ashishpatil2017/Python-Programming/blob/main/Python_Programming.ipynb\" target=\"_parent\"><img src=\"https://colab.research.google.com/assets/colab-badge.svg\" alt=\"Open In Colab\"/></a>"
      ]
    },
    {
      "cell_type": "code",
      "metadata": {
        "id": "cHD6jSm2hp--"
      },
      "source": [
        "#Ask  the user for a number of item \r\n",
        "#create a file prices.txt  open for writing \r\n",
        "# For each item ask the user the price  and write  it to the file \r\n",
        "#read in the file and report the total cost "
      ],
      "execution_count": null,
      "outputs": []
    },
    {
      "cell_type": "code",
      "metadata": {
        "colab": {
          "base_uri": "https://localhost:8080/"
        },
        "id": "bSE7cwr2hqnD",
        "outputId": "5c9a51b9-5165-40dc-cc11-178d00b7ecd8"
      },
      "source": [
        ""
      ],
      "execution_count": null,
      "outputs": [
        {
          "output_type": "stream",
          "text": [
            "1\n"
          ],
          "name": "stdout"
        }
      ]
    },
    {
      "cell_type": "code",
      "metadata": {
        "colab": {
          "base_uri": "https://localhost:8080/"
        },
        "id": "URlm66eEht5Z",
        "outputId": "dc5d01d3-e988-4b95-a97f-b0039cd59fc7"
      },
      "source": [
        "print(NumberOfItems)"
      ],
      "execution_count": null,
      "outputs": [
        {
          "output_type": "stream",
          "text": [
            "1\n"
          ],
          "name": "stdout"
        }
      ]
    },
    {
      "cell_type": "code",
      "metadata": {
        "id": "NuRqAgL4hw6m"
      },
      "source": [
        ""
      ],
      "execution_count": null,
      "outputs": []
    },
    {
      "cell_type": "code",
      "metadata": {
        "colab": {
          "base_uri": "https://localhost:8080/"
        },
        "id": "X2ugjChxiFbz",
        "outputId": "1448d9e6-9771-4761-d14d-60e708bd0ace"
      },
      "source": [
        ""
      ],
      "execution_count": null,
      "outputs": [
        {
          "output_type": "stream",
          "text": [
            "5\n",
            "6\n",
            "7\n"
          ],
          "name": "stdout"
        }
      ]
    },
    {
      "cell_type": "code",
      "metadata": {
        "colab": {
          "base_uri": "https://localhost:8080/"
        },
        "id": "wVhISq1dD-wP",
        "outputId": "ab820994-5fda-47f8-bb35-a5f791c0405a"
      },
      "source": [
        ""
      ],
      "execution_count": null,
      "outputs": [
        {
          "output_type": "stream",
          "text": [
            "['4', '5', '6']\n"
          ],
          "name": "stdout"
        }
      ]
    },
    {
      "cell_type": "code",
      "metadata": {
        "id": "gNnIQdniiTn5"
      },
      "source": [
        ""
      ],
      "execution_count": null,
      "outputs": []
    },
    {
      "cell_type": "code",
      "metadata": {
        "id": "mwQL9MlVjQWF",
        "colab": {
          "base_uri": "https://localhost:8080/"
        },
        "outputId": "77c0ed7d-0bfa-4961-8bb1-bfdfd2e0817d"
      },
      "source": [
        ""
      ],
      "execution_count": null,
      "outputs": [
        {
          "output_type": "stream",
          "text": [
            "42\n"
          ],
          "name": "stdout"
        }
      ]
    },
    {
      "cell_type": "code",
      "metadata": {
        "colab": {
          "base_uri": "https://localhost:8080/"
        },
        "id": "2VE0Txokr_oL",
        "outputId": "813020b1-982d-4c9e-fcc7-ba3c807c4066"
      },
      "source": [
        "print(totalCost)"
      ],
      "execution_count": null,
      "outputs": [
        {
          "output_type": "stream",
          "text": [
            "5\n"
          ],
          "name": "stdout"
        }
      ]
    },
    {
      "cell_type": "markdown",
      "metadata": {
        "id": "xphyf21S6Q8T"
      },
      "source": [
        "##Class 4 : Mutable and Imutable DataTypes\r\n"
      ]
    },
    {
      "cell_type": "code",
      "metadata": {
        "id": "ekPCs_-2uk4Y"
      },
      "source": [
        "#list and dictiornary are mutable \r\n",
        "#tuple , string are immutable \r\n"
      ],
      "execution_count": null,
      "outputs": []
    },
    {
      "cell_type": "code",
      "metadata": {
        "id": "GhF3cc5Z5lcR"
      },
      "source": [
        "t=(1,2)"
      ],
      "execution_count": null,
      "outputs": []
    },
    {
      "cell_type": "code",
      "metadata": {
        "colab": {
          "base_uri": "https://localhost:8080/"
        },
        "id": "7jq7udmH5mr9",
        "outputId": "da586572-e491-4a5d-e881-8d85d8f48199"
      },
      "source": [
        "id(t[1])"
      ],
      "execution_count": null,
      "outputs": [
        {
          "output_type": "execute_result",
          "data": {
            "text/plain": [
              "10914528"
            ]
          },
          "metadata": {
            "tags": []
          },
          "execution_count": 14
        }
      ]
    },
    {
      "cell_type": "code",
      "metadata": {
        "colab": {
          "base_uri": "https://localhost:8080/"
        },
        "id": "0uSt9xbP5owi",
        "outputId": "02654882-7fce-4c0a-c912-cb03c5b06406"
      },
      "source": [
        "id(t[0])"
      ],
      "execution_count": null,
      "outputs": [
        {
          "output_type": "execute_result",
          "data": {
            "text/plain": [
              "10914496"
            ]
          },
          "metadata": {
            "tags": []
          },
          "execution_count": 13
        }
      ]
    },
    {
      "cell_type": "code",
      "metadata": {
        "id": "MzRbzEZ05qj0"
      },
      "source": [
        "l1[1]=5"
      ],
      "execution_count": null,
      "outputs": []
    },
    {
      "cell_type": "code",
      "metadata": {
        "colab": {
          "base_uri": "https://localhost:8080/"
        },
        "id": "LbuJeG_U5viW",
        "outputId": "6eca5adc-18e1-402e-f65c-def280b2421a"
      },
      "source": [
        "l1"
      ],
      "execution_count": null,
      "outputs": [
        {
          "output_type": "execute_result",
          "data": {
            "text/plain": [
              "[1, 5, 3]"
            ]
          },
          "metadata": {
            "tags": []
          },
          "execution_count": 9
        }
      ]
    },
    {
      "cell_type": "code",
      "metadata": {
        "id": "8BxLitow6iMx"
      },
      "source": [
        "#Tuple :\r\n",
        "info = ('Ashish', 1.7)"
      ],
      "execution_count": null,
      "outputs": []
    },
    {
      "cell_type": "code",
      "metadata": {
        "colab": {
          "base_uri": "https://localhost:8080/",
          "height": 35
        },
        "id": "XJoAM_uM7RCR",
        "outputId": "9c84cb11-51ea-4604-dee2-48f02334458e"
      },
      "source": [
        "'My Name is %s and I am %.2f tall ' %info"
      ],
      "execution_count": null,
      "outputs": [
        {
          "output_type": "execute_result",
          "data": {
            "application/vnd.google.colaboratory.intrinsic+json": {
              "type": "string"
            },
            "text/plain": [
              "'My Name is Ashish and I am 1.70 tall '"
            ]
          },
          "metadata": {
            "tags": []
          },
          "execution_count": 17
        }
      ]
    },
    {
      "cell_type": "code",
      "metadata": {
        "id": "Dz0Uq4Vs7e0v"
      },
      "source": [
        "#String Methods :"
      ],
      "execution_count": null,
      "outputs": []
    },
    {
      "cell_type": "code",
      "metadata": {
        "id": "l6y4kD9tAu9D"
      },
      "source": [
        "n"
      ],
      "execution_count": null,
      "outputs": []
    },
    {
      "cell_type": "code",
      "metadata": {
        "colab": {
          "base_uri": "https://localhost:8080/"
        },
        "id": "rG1JjeTvGd-R",
        "outputId": "4107228c-9ac9-4725-d238-c8ddc0e6d1e7"
      },
      "source": [
        "#Problem Statement : Program to write description , cost and qanatity of different products from user and calcualte total cost \r\n",
        "def readShopping(NumberOfItems):\r\n",
        "  ItemCostFile = open(\"ItemCostFile.txt\", \"w\")\r\n",
        "  for i in range(NumberOfItems):\r\n",
        "    discr = input()\r\n",
        "    cost = int(input())\r\n",
        "    quantity = int(input())\r\n",
        "    s = str(disc)+' '+str(cost)+' '+str(quantity)\r\n",
        "    ItemCostFile.write(s+'\\n')\r\n",
        "  ItemCostFile.close()\r\n",
        "\r\n",
        "  \r\n",
        "\r\n",
        "NumberOfItems = int(input())\r\n",
        "readShopping(NumberOfItems)\r\n"
      ],
      "execution_count": null,
      "outputs": [
        {
          "output_type": "stream",
          "text": [
            "1\n",
            "milk\n",
            "2\n",
            "2\n"
          ],
          "name": "stdout"
        }
      ]
    },
    {
      "cell_type": "markdown",
      "metadata": {
        "id": "DlYAmGkagmLh"
      },
      "source": [
        "# New Section"
      ]
    },
    {
      "cell_type": "code",
      "metadata": {
        "colab": {
          "base_uri": "https://localhost:8080/"
        },
        "id": "dcMFBdYvGepQ",
        "outputId": "4551a1dd-b315-4e5f-d73e-981284d31ac8"
      },
      "source": [
        "file1 = open(\"ItemCostFile.txt\",'r')\r\n",
        "totalCost = 0\r\n",
        "for i in file1:\r\n",
        "  eachline = i.split(' ')\r\n",
        "  totalCost = totalCost + (int(eachline[1]) * int(eachline[2]))\r\n",
        "print(totalCost)"
      ],
      "execution_count": null,
      "outputs": [
        {
          "output_type": "stream",
          "text": [
            "4\n"
          ],
          "name": "stdout"
        }
      ]
    },
    {
      "cell_type": "code",
      "metadata": {
        "id": "Cah7xLM4G5Bs"
      },
      "source": [
        ""
      ],
      "execution_count": null,
      "outputs": []
    }
  ]
}